{
 "cells": [
  {
   "cell_type": "code",
   "execution_count": 1,
   "metadata": {},
   "outputs": [
    {
     "name": "stdout",
     "output_type": "stream",
     "text": [
      "[[1]]\n"
     ]
    }
   ],
   "source": [
    "import cv2\n",
    "import tensorflow\n",
    "\n",
    "cat_or_dog_prediction_model = tensorflow.keras.models.load_model(\"cat_or_dog_model.keras\")\n",
    "\n",
    "dog_file = \"cats_and_dogs/test/DOG/10001.jpg\" #random dog image\n",
    "\n",
    "from keras.preprocessing import image #preprocess image correctly\n",
    "\n",
    "dog_img = image.load_img(dog_file, target_size=(175, 175)) #target size is what the model uses as its input shape\n",
    "\n",
    "dog_array = image.img_to_array(dog_img)\n",
    "\n",
    "dog_array.shape\n",
    "\n",
    "dog_array = dog_array.reshape(1, 175, 175, 3) #reshape to 4 dimensions\n",
    "\n",
    "dog_array = dog_array/dog_array.max() #rescale to 0-1\n",
    "\n",
    "single_prediction = cat_or_dog_prediction_model.predict(dog_array)\n",
    "\n",
    "single_prediction = (cat_or_dog_prediction_model.predict(dog_array)>0.5).astype(\"int32\") #predict as binary classifer, 1 or 0\n",
    "\n",
    "print(single_prediction)\n"
   ]
  },
  {
   "cell_type": "code",
   "execution_count": null,
   "metadata": {},
   "outputs": [],
   "source": []
  }
 ],
 "metadata": {
  "kernelspec": {
   "display_name": "Python 3",
   "language": "python",
   "name": "python3"
  },
  "language_info": {
   "codemirror_mode": {
    "name": "ipython",
    "version": 3
   },
   "file_extension": ".py",
   "mimetype": "text/x-python",
   "name": "python",
   "nbconvert_exporter": "python",
   "pygments_lexer": "ipython3",
   "version": "3.8.5"
  }
 },
 "nbformat": 4,
 "nbformat_minor": 4
}
